{
 "cells": [
  {
   "cell_type": "code",
   "execution_count": 1,
   "metadata": {},
   "outputs": [],
   "source": [
    "import json\n",
    "import requests\n",
    "import time\n",
    "\n",
    "with open('./api_parsing/token.json') as f:\n",
    "    data = json.load(f)\n",
    "\n",
    "IP = data['ip']\n",
    "TOKEN = data['access_token']\n",
    "\n",
    "def get_user_friends(username):\n",
    "    response = requests.get(f'https://api.jikan.moe/v4/users/{username}/friends')\n",
    "    if response.status_code == 200:\n",
    "        time.sleep(0.5)\n",
    "        return response.json()\n",
    "    else:\n",
    "        print('REQUEST ERROR')\n",
    "        time.sleep(1)\n",
    "        return None\n",
    "    \n",
    "def get_user_list(username, params):\n",
    "    global TOKEN\n",
    "\n",
    "    headers = {'Authorization': f'Bearer {TOKEN}'}\n",
    "\n",
    "    response = requests.get(f'https://api.myanimelist.net/v2/users/{username}/animelist', params=params, headers=headers)\n",
    "    if response.status_code == 200:\n",
    "        time.sleep(0.5)\n",
    "        return response.json()\n",
    "    else:\n",
    "        print('REQUEST ERROR')\n",
    "        time.sleep(1)\n",
    "        return None"
   ]
  },
  {
   "cell_type": "code",
   "execution_count": null,
   "metadata": {},
   "outputs": [],
   "source": [
    "from pymongo import MongoClient, errors\n",
    "\n",
    "client = MongoClient(\"mongodb://localhost\", 27017)\n",
    "\n",
    "db = client['AnimeRecs']\n",
    "\n",
    "col = db['UserNames']\n",
    "\n",
    "try:\n",
    "    col.create_index([('name', 1)], unique=True)\n",
    "except errors.DuplicateKeyError as e:\n",
    "    print(f\"Error: {e}\")"
   ]
  },
  {
   "cell_type": "code",
   "execution_count": null,
   "metadata": {},
   "outputs": [],
   "source": [
    "#try insertion of name\n",
    "def insertName(name):\n",
    "    try:\n",
    "        col.insert_one({'name': name})\n",
    "    except errors.DuplicateKeyError:\n",
    "        print(f'{name} already exists')"
   ]
  },
  {
   "cell_type": "code",
   "execution_count": null,
   "metadata": {},
   "outputs": [],
   "source": [
    "#main script for data collection\n",
    "\n",
    "#starting names (hardcoded)\n",
    "\n",
    "starting_names = []"
   ]
  }
 ],
 "metadata": {
  "kernelspec": {
   "display_name": "Python 3",
   "language": "python",
   "name": "python3"
  },
  "language_info": {
   "codemirror_mode": {
    "name": "ipython",
    "version": 3
   },
   "file_extension": ".py",
   "mimetype": "text/x-python",
   "name": "python",
   "nbconvert_exporter": "python",
   "pygments_lexer": "ipython3",
   "version": "3.9.0"
  }
 },
 "nbformat": 4,
 "nbformat_minor": 2
}
