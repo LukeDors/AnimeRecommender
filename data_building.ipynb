{
 "cells": [
  {
   "cell_type": "code",
   "execution_count": 29,
   "metadata": {},
   "outputs": [],
   "source": [
    "import json\n",
    "import requests\n",
    "import time\n",
    "\n",
    "with open('./api_parsing/token.json') as f:\n",
    "    data = json.load(f)\n",
    "\n",
    "TOKEN = data['access_token']\n",
    "\n",
    "def get_user_friends(username):\n",
    "    response = requests.get(f'https://api.jikan.moe/v4/users/{username}/friends')\n",
    "    if response.status_code == 200:\n",
    "        time.sleep(0.5)\n",
    "        return response.json()\n",
    "    else:\n",
    "        print('REQUEST ERROR')\n",
    "        time.sleep(1)\n",
    "        return None\n",
    "    \n",
    "def get_user_list(username, params):\n",
    "    global TOKEN\n",
    "\n",
    "    headers = {'Authorization': f'Bearer {TOKEN}'}\n",
    "\n",
    "    response = requests.get(f'https://api.myanimelist.net/v2/users/{username}/animelist', params=params, headers=headers)\n",
    "    if response.status_code == 200:\n",
    "        time.sleep(0.5)\n",
    "        return response.json()\n",
    "    else:\n",
    "        print('REQUEST ERROR')\n",
    "        time.sleep(1)\n",
    "        return None"
   ]
  },
  {
   "cell_type": "code",
   "execution_count": 13,
   "metadata": {},
   "outputs": [],
   "source": [
    "test= get_user_friends('Tiosar')"
   ]
  },
  {
   "cell_type": "code",
   "execution_count": 20,
   "metadata": {},
   "outputs": [],
   "source": [
    "friend = test['data'][0]['user']['username']"
   ]
  },
  {
   "cell_type": "code",
   "execution_count": 30,
   "metadata": {},
   "outputs": [],
   "source": [
    "friend_data = get_user_list(friend, params={'status': 'dropped'})"
   ]
  },
  {
   "cell_type": "code",
   "execution_count": 32,
   "metadata": {},
   "outputs": [
    {
     "data": {
      "text/plain": [
       "[{'node': {'id': 15061,\n",
       "   'title': 'Aikatsu!',\n",
       "   'main_picture': {'medium': 'https://cdn.myanimelist.net/images/anime/6/74783.jpg',\n",
       "    'large': 'https://cdn.myanimelist.net/images/anime/6/74783l.jpg'}}},\n",
       " {'node': {'id': 9513,\n",
       "   'title': 'Beelzebub',\n",
       "   'main_picture': {'medium': 'https://cdn.myanimelist.net/images/anime/3/28013.jpg',\n",
       "    'large': 'https://cdn.myanimelist.net/images/anime/3/28013l.jpg'}}},\n",
       " {'node': {'id': 11843,\n",
       "   'title': 'Danshi Koukousei no Nichijou',\n",
       "   'main_picture': {'medium': 'https://cdn.myanimelist.net/images/anime/3/33257.jpg',\n",
       "    'large': 'https://cdn.myanimelist.net/images/anime/3/33257l.jpg'}}},\n",
       " {'node': {'id': 22189,\n",
       "   'title': 'Futsuu no Joshikousei ga [Locodol] Yattemita.',\n",
       "   'main_picture': {'medium': 'https://cdn.myanimelist.net/images/anime/12/65309.jpg',\n",
       "    'large': 'https://cdn.myanimelist.net/images/anime/12/65309l.jpg'}}},\n",
       " {'node': {'id': 240,\n",
       "   'title': 'Genshiken',\n",
       "   'main_picture': {'medium': 'https://cdn.myanimelist.net/images/anime/1890/94707.jpg',\n",
       "    'large': 'https://cdn.myanimelist.net/images/anime/1890/94707l.jpg'}}},\n",
       " {'node': {'id': 23079,\n",
       "   'title': 'Glasslip',\n",
       "   'main_picture': {'medium': 'https://cdn.myanimelist.net/images/anime/12/64265.jpg',\n",
       "    'large': 'https://cdn.myanimelist.net/images/anime/12/64265l.jpg'}}},\n",
       " {'node': {'id': 23259,\n",
       "   'title': 'Gundam: G no Reconguista',\n",
       "   'main_picture': {'medium': 'https://cdn.myanimelist.net/images/anime/12/63753.jpg',\n",
       "    'large': 'https://cdn.myanimelist.net/images/anime/12/63753l.jpg'}}},\n",
       " {'node': {'id': 11785,\n",
       "   'title': 'Haiyore! Nyaruko-san',\n",
       "   'main_picture': {'medium': 'https://cdn.myanimelist.net/images/anime/6/49081.jpg',\n",
       "    'large': 'https://cdn.myanimelist.net/images/anime/6/49081l.jpg'}}},\n",
       " {'node': {'id': 2026,\n",
       "   'title': 'Hayate no Gotoku!',\n",
       "   'main_picture': {'medium': 'https://cdn.myanimelist.net/images/anime/7/73932.jpg',\n",
       "    'large': 'https://cdn.myanimelist.net/images/anime/7/73932l.jpg'}}},\n",
       " {'node': {'id': 14765,\n",
       "   'title': 'Ixion Saga DT',\n",
       "   'main_picture': {'medium': 'https://cdn.myanimelist.net/images/anime/8/42863.jpg',\n",
       "    'large': 'https://cdn.myanimelist.net/images/anime/8/42863l.jpg'}}}]"
      ]
     },
     "execution_count": 32,
     "metadata": {},
     "output_type": "execute_result"
    }
   ],
   "source": [
    "friend_data['data']"
   ]
  }
 ],
 "metadata": {
  "kernelspec": {
   "display_name": "Python 3",
   "language": "python",
   "name": "python3"
  },
  "language_info": {
   "codemirror_mode": {
    "name": "ipython",
    "version": 3
   },
   "file_extension": ".py",
   "mimetype": "text/x-python",
   "name": "python",
   "nbconvert_exporter": "python",
   "pygments_lexer": "ipython3",
   "version": "3.9.0"
  }
 },
 "nbformat": 4,
 "nbformat_minor": 2
}
