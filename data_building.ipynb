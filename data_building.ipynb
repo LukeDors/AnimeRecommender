{
 "cells": [
  {
   "cell_type": "code",
   "execution_count": 19,
   "metadata": {},
   "outputs": [],
   "source": [
    "import json\n",
    "import requests\n",
    "import time\n",
    "\n",
    "with open('./api_parsing/token.json') as f:\n",
    "    data = json.load(f)\n",
    "\n",
    "IP = data['ip']\n",
    "TOKEN = data['access_token']\n",
    "\n",
    "def get_user_friends(username, params):\n",
    "    response = requests.get(f'https://api.jikan.moe/v4/users/{username}/friends', params=params)\n",
    "    if response.status_code == 200:\n",
    "        time.sleep(0.5)\n",
    "        return response.json()\n",
    "    else:\n",
    "        print('REQUEST ERROR')\n",
    "        time.sleep(1)\n",
    "        return None\n",
    "    \n",
    "def get_user_list(username, params):\n",
    "    global TOKEN\n",
    "\n",
    "    headers = {'Authorization': f'Bearer {TOKEN}'}\n",
    "\n",
    "    response = requests.get(f'https://api.myanimelist.net/v2/users/{username}/animelist', params=params, headers=headers)\n",
    "    if response.status_code == 200:\n",
    "        time.sleep(0.5)\n",
    "        return response.json()\n",
    "    else:\n",
    "        print('REQUEST ERROR')\n",
    "        time.sleep(1)\n",
    "        return None"
   ]
  },
  {
   "cell_type": "code",
   "execution_count": 3,
   "metadata": {},
   "outputs": [],
   "source": [
    "from pymongo import MongoClient, errors\n",
    "\n",
    "client = MongoClient(\"mongodb://localhost\", 27017)\n",
    "\n",
    "db = client['AnimeRecs']\n",
    "\n",
    "col = db['UserNames']\n",
    "\n",
    "try:\n",
    "    col.create_index([('name', 1)], unique=True)\n",
    "except errors.DuplicateKeyError as e:\n",
    "    print(f\"Error: {e}\")"
   ]
  },
  {
   "cell_type": "code",
   "execution_count": 4,
   "metadata": {},
   "outputs": [],
   "source": [
    "#try insertion of name\n",
    "def insertName(name):\n",
    "    try:\n",
    "        col.insert_one({'name': name})\n",
    "    except errors.DuplicateKeyError:\n",
    "        print(f'{name} already exists')"
   ]
  },
  {
   "cell_type": "code",
   "execution_count": 24,
   "metadata": {},
   "outputs": [
    {
     "data": {
      "text/plain": [
       "[]"
      ]
     },
     "execution_count": 24,
     "metadata": {},
     "output_type": "execute_result"
    }
   ],
   "source": [
    "#main script for data collection\n",
    "\n",
    "#max value for names to be collected\n",
    "max_value = 10000\n",
    "\n",
    "#starting names (hardcoded)\n",
    "starting_names = ['Stark700', 'Kanashimi', 'Veronin', 'Sorrowful', 'Decoys']\n",
    "\n",
    "for current in starting_names:\n",
    "\n",
    "    #get friends of the first name\n",
    "    friends = get_user_friends(current, {})\n",
    "    more_pages = False\n",
    "    page = 1\n",
    "    if friends['pagination']['has_next_page']:\n",
    "        more_pages = True\n",
    "        #find additional pages of friends\n",
    "        while more_pages:\n",
    "            page += 1 \n",
    "            new_friends = get_user_friends(current, {'page': page})\n",
    "            more_pages = new_friends['pagination']['has_next_page']\n",
    "            friendlist = friendlist + [friend['user']['username'] for friend in new_friends['data']]\n",
    "    else:\n",
    "        friendlist = [friend['user']['username'] for friend in friends['data']]\n",
    "\n",
    "    #check for dupes\n",
    "    friendlist = [friend not in starting_names for friend in friendlist]\n",
    "\n",
    "    #put each of those friends into a list\n",
    "    if (starting_names < max_value):\n",
    "        starting_names = starting_names + friendlist\n",
    "\n",
    "    #put into db\n",
    "    insertName(current)"
   ]
  }
 ],
 "metadata": {
  "kernelspec": {
   "display_name": "Python 3",
   "language": "python",
   "name": "python3"
  },
  "language_info": {
   "codemirror_mode": {
    "name": "ipython",
    "version": 3
   },
   "file_extension": ".py",
   "mimetype": "text/x-python",
   "name": "python",
   "nbconvert_exporter": "python",
   "pygments_lexer": "ipython3",
   "version": "3.9.0"
  }
 },
 "nbformat": 4,
 "nbformat_minor": 2
}
